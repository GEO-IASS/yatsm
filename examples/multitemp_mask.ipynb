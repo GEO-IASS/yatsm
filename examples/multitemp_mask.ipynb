{
 "metadata": {
  "name": "",
  "signature": "sha256:83560662e2767209fd5037504b8b78887f3374bab69ea70e3c7de7843adf5dfc"
 },
 "nbformat": 3,
 "nbformat_minor": 0,
 "worksheets": [
  {
   "cells": [
    {
     "cell_type": "markdown",
     "metadata": {},
     "source": [
      "Multitemporal masking testing\n",
      "=============================\n",
      "\n",
      "# Goal: \n",
      "Estimate time series of green and SWIR reflectances for multi-temporal cloud/shadow filtering\n",
      "\n",
      "#### Problem: \n",
      "Timeseries is irregularly spaced, especially before Landsat 7, with possibility of large gaps\n",
      "\n",
      "## Approaches:\n",
      "1. Iteratively reweighted least squares for modeling the training period\n",
      "    - Only training period because we don't want to include changes in one regression model\n",
      "2. LOWESS \n",
      "3. STL - Seasonal-trend LOESS\n",
      "4. LOESS"
     ]
    },
    {
     "cell_type": "code",
     "collapsed": false,
     "input": [
      "from __future__ import print_function, division\n",
      "\n",
      "from datetime import datetime as dt\n",
      "\n",
      "import numpy as np\n",
      "import statsmodels.api as sm\n",
      "import matplotlib.pyplot as plt\n",
      "%matplotlib inline\n",
      "\n",
      "green = 1\n",
      "swir1 = 4\n",
      "\n",
      "# Read in data\n",
      "x = np.load('sample_x.npy')\n",
      "Y = np.load('px12_py27_Y.npy')\n",
      "\n",
      "mask = (Y[7, :] <= 1)\n",
      "\n",
      "x = np.array([_x.toordinal() for _x in x[mask]])\n",
      "Y = Y[:7, mask]"
     ],
     "language": "python",
     "metadata": {},
     "outputs": [],
     "prompt_number": 30
    },
    {
     "cell_type": "code",
     "collapsed": false,
     "input": [
      "# Plotter\n",
      "def plotter(x, y, predx=None, predy=None, crit=400):\n",
      "    plt.plot(x, y, 'ko')\n",
      "    \n",
      "    if predx is not None and predy is not None:\n",
      "        plt.plot(predx, predy, 'r-')\n",
      "        \n",
      "        match = np.where(predx in x)\n",
      "        \n",
      "        match_x = predx[match]\n",
      "        match_y = predy[match]\n",
      "        \n",
      "        masked = (predy - match_y) > crit\n",
      "        \n",
      "        plt.plot(match_x[masked], match_y[masked], 'ro')\n",
      "        "
     ],
     "language": "python",
     "metadata": {},
     "outputs": [],
     "prompt_number": 49
    },
    {
     "cell_type": "code",
     "collapsed": false,
     "input": [
      "index = np.arange(0, 30)\n",
      "\n",
      "plt.subplot(211)\n",
      "plotter(x[index], Y[green, index])\n",
      "plt.ylabel('Green')\n",
      "\n",
      "plt.subplot(212)\n",
      "plotter(x[index], Y[swir1, index])\n",
      "plt.ylabel('SWIR1')"
     ],
     "language": "python",
     "metadata": {},
     "outputs": [
      {
       "metadata": {},
       "output_type": "pyout",
       "prompt_number": 32,
       "text": [
        "<matplotlib.text.Text at 0x7f4ba6768990>"
       ]
      },
      {
       "metadata": {},
       "output_type": "display_data",
       "png": "[encoded data removed]",
       "text": [
        "<matplotlib.figure.Figure at 0x7f4bd411b090>"
       ]
      }
     ],
     "prompt_number": 32
    },
    {
     "cell_type": "markdown",
     "metadata": {},
     "source": [
      "## 1. IRWLS"
     ]
    },
    {
     "cell_type": "code",
     "collapsed": false,
     "input": [
      "niter = 50\n",
      "\n",
      "n_year = np.ceil(x[index[-1]] - x[index[0]])\n",
      "\n",
      "\n",
      "def get_predX(x, n_year):\n",
      "    w = 2.0 * np.pi / 365.25\n",
      "\n",
      "    X = np.array([\n",
      "        np.ones_like(x),\n",
      "        np.cos(w * x),\n",
      "        np.sin(w * x),\n",
      "        np.cos(w / n_year * x),\n",
      "        np.sin(w / n_year * x)\n",
      "    ])\n",
      "    # X = sm.add_constant(X)\n",
      "    return X\n",
      "\n",
      "X = get_predX(x, n_year)\n",
      "\n",
      "green_rlm = sm.RLM(Y[green, index], X[:, index].T,\n",
      "                   M=sm.robust.norms.TukeyBiweight()).fit(maxiter=niter)\n",
      "swir1_rlm = sm.RLM(Y[swir1, index], X[:, index].T,\n",
      "                   M=sm.robust.norms.TukeyBiweight()).fit(maxiter=niter)\n",
      "\n",
      "\n",
      "predx = np.linspace(x[index[0]], x[index[-1]], num=len(index))\n",
      "predX = get_predX(predx, n_year)\n",
      "\n",
      "plt.subplot(211)\n",
      "plotter(x[index], Y[green, index],\n",
      "        predx=predx, predy=green_rlm.predict(predX.T))\n",
      "plt.ylabel('Green')\n",
      "\n",
      "plt.subplot(212)\n",
      "plotter(x[index], Y[swir1, index],\n",
      "        predx=predx, predy=swir1_rlm.predict(predX.T),\n",
      "        crit=-400)\n",
      "plt.ylabel('SWIR1')"
     ],
     "language": "python",
     "metadata": {},
     "outputs": [
      {
       "ename": "ValueError",
       "evalue": "too many boolean indices",
       "output_type": "pyerr",
       "traceback": [
        "\u001b[1;31m---------------------------------------------------------------------------\u001b[0m\n\u001b[1;31mValueError\u001b[0m                                Traceback (most recent call last)",
        "\u001b[1;32m<ipython-input-50-564a1a64fee3>\u001b[0m in \u001b[0;36m<module>\u001b[1;34m()\u001b[0m\n\u001b[0;32m     30\u001b[0m \u001b[0mplt\u001b[0m\u001b[1;33m.\u001b[0m\u001b[0msubplot\u001b[0m\u001b[1;33m(\u001b[0m\u001b[1;36m211\u001b[0m\u001b[1;33m)\u001b[0m\u001b[1;33m\u001b[0m\u001b[0m\n\u001b[0;32m     31\u001b[0m plotter(x[index], Y[green, index],\n\u001b[1;32m---> 32\u001b[1;33m         predx=predx, predy=green_rlm.predict(predX.T))\n\u001b[0m\u001b[0;32m     33\u001b[0m \u001b[0mplt\u001b[0m\u001b[1;33m.\u001b[0m\u001b[0mylabel\u001b[0m\u001b[1;33m(\u001b[0m\u001b[1;34m'Green'\u001b[0m\u001b[1;33m)\u001b[0m\u001b[1;33m\u001b[0m\u001b[0m\n\u001b[0;32m     34\u001b[0m \u001b[1;33m\u001b[0m\u001b[0m\n",
        "\u001b[1;32m<ipython-input-49-d7e3e9abd71b>\u001b[0m in \u001b[0;36mplotter\u001b[1;34m(x, y, predx, predy, crit)\u001b[0m\n\u001b[0;32m     13\u001b[0m         \u001b[0mmasked\u001b[0m \u001b[1;33m=\u001b[0m \u001b[1;33m(\u001b[0m\u001b[0mpredy\u001b[0m \u001b[1;33m-\u001b[0m \u001b[0mmatch_y\u001b[0m\u001b[1;33m)\u001b[0m \u001b[1;33m>\u001b[0m \u001b[0mcrit\u001b[0m\u001b[1;33m\u001b[0m\u001b[0m\n\u001b[0;32m     14\u001b[0m \u001b[1;33m\u001b[0m\u001b[0m\n\u001b[1;32m---> 15\u001b[1;33m         \u001b[0mplt\u001b[0m\u001b[1;33m.\u001b[0m\u001b[0mplot\u001b[0m\u001b[1;33m(\u001b[0m\u001b[0mmatch_x\u001b[0m\u001b[1;33m[\u001b[0m\u001b[0mmasked\u001b[0m\u001b[1;33m]\u001b[0m\u001b[1;33m,\u001b[0m \u001b[0mmatch_y\u001b[0m\u001b[1;33m[\u001b[0m\u001b[0mmasked\u001b[0m\u001b[1;33m]\u001b[0m\u001b[1;33m,\u001b[0m \u001b[1;34m'ro'\u001b[0m\u001b[1;33m)\u001b[0m\u001b[1;33m\u001b[0m\u001b[0m\n\u001b[0m\u001b[0;32m     16\u001b[0m \u001b[1;33m\u001b[0m\u001b[0m\n",
        "\u001b[1;31mValueError\u001b[0m: too many boolean indices"
       ]
      },
      {
       "metadata": {},
       "output_type": "display_data",
       "png": "[encoded data removed]",
       "text": [
        "<matplotlib.figure.Figure at 0x7f4ba6483150>"
       ]
      }
     ],
     "prompt_number": 50
    },
    {
     "cell_type": "code",
     "collapsed": false,
     "input": [
      "np.linspace(x[index[0]], x[index[-1]], num=len(index))\n"
     ],
     "language": "python",
     "metadata": {},
     "outputs": [
      {
       "metadata": {},
       "output_type": "pyout",
       "prompt_number": 57,
       "text": [
        "array([ 727572.        ,  727592.4137931 ,  727612.82758621,\n",
        "        727633.24137931,  727653.65517241,  727674.06896552,\n",
        "        727694.48275862,  727714.89655172,  727735.31034483,\n",
        "        727755.72413793,  727776.13793103,  727796.55172414,\n",
        "        727816.96551724,  727837.37931034,  727857.79310345,\n",
        "        727878.20689655,  727898.62068966,  727919.03448276,\n",
        "        727939.44827586,  727959.86206897,  727980.27586207,\n",
        "        728000.68965517,  728021.10344828,  728041.51724138,\n",
        "        728061.93103448,  728082.34482759,  728102.75862069,\n",
        "        728123.17241379,  728143.5862069 ,  728164.        ])"
       ]
      }
     ],
     "prompt_number": 57
    },
    {
     "cell_type": "code",
     "collapsed": false,
     "input": [
      "match = np.where(predx in x)\n",
      "\n",
      "match_x = predx[match]\n",
      "match_y = predy[match]\n",
      "\n",
      "masked = (predy - match_y) > 400"
     ],
     "language": "python",
     "metadata": {},
     "outputs": []
    },
    {
     "cell_type": "code",
     "collapsed": false,
     "input": [
      "?green_rlm.predict()"
     ],
     "language": "python",
     "metadata": {},
     "outputs": [],
     "prompt_number": 38
    },
    {
     "cell_type": "markdown",
     "metadata": {},
     "source": [
      "## 3. STL Seasonal-trend LOESS\n",
      "\n",
      "To perform STL we can use a wrapper for R's built-in `stl` written by Andreas Hilboll located here:\n",
      "\n",
      "    https://gist.github.com/andreas-h/7808564"
     ]
    },
    {
     "cell_type": "code",
     "collapsed": false,
     "input": [
      "# Import wrapper by \"andreas-h\" for R's STL\n",
      "! wget https://gist.githubusercontent.com/andreas-h/7808564/raw/15dcb3141480fb5b190f9e22e29d0ebf16b20b1d/r_stl.py"
     ],
     "language": "python",
     "metadata": {},
     "outputs": [
      {
       "output_type": "stream",
       "stream": "stdout",
       "text": [
        "--2014-08-29 15:12:50--  https://gist.githubusercontent.com/andreas-h/7808564/raw/15dcb3141480fb5b190f9e22e29d0ebf16b20b1d/r_stl.py\r\n",
        "Resolving gist.githubusercontent.com (gist.githubusercontent.com)... 192.30.252.159\r\n",
        "Connecting to gist.githubusercontent.com (gist.githubusercontent.com)|192.30.252.159|:443... connected.\r\n"
       ]
      },
      {
       "output_type": "stream",
       "stream": "stdout",
       "text": [
        "HTTP request sent, awaiting response... 200 OK\r\n",
        "Length: unspecified [text/plain]\r\n",
        "Saving to: \u2018r_stl.py\u2019\r\n",
        "\r\n",
        "\r",
        "    [<=>                                    ] 0           --.-K/s              \r",
        "    [ <=>                                   ] 6,763       --.-K/s   in 0.001s  \r\n",
        "\r\n",
        "2014-08-29 15:12:50 (8.80 MB/s) - \u2018r_stl.py\u2019 saved [6763]\r\n",
        "\r\n"
       ]
      }
     ],
     "prompt_number": 9
    },
    {
     "cell_type": "code",
     "collapsed": false,
     "input": [
      "from r_stl import stl"
     ],
     "language": "python",
     "metadata": {},
     "outputs": [],
     "prompt_number": 11
    },
    {
     "cell_type": "code",
     "collapsed": false,
     "input": [
      "?stl"
     ],
     "language": "python",
     "metadata": {},
     "outputs": [],
     "prompt_number": 12
    }
   ],
   "metadata": {}
  }
 ]
}