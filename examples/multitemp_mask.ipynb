{
 "metadata": {
  "name": "",
  "signature": "sha256:c0835c1d635e9eb9c353a5d177254d2712dd90a386b427a66d73aaebdfce82f0"
 },
 "nbformat": 3,
 "nbformat_minor": 0,
 "worksheets": [
  {
   "cells": [
    {
     "cell_type": "markdown",
     "metadata": {},
     "source": [
      "Multitemporal masking testing\n",
      "=============================\n",
      "\n",
      "# Goal: \n",
      "Estimate time series of green and SWIR reflectances for multi-temporal cloud/shadow filtering\n",
      "\n",
      "#### Problem: \n",
      "Timeseries is irregularly spaced, especially before Landsat 7, with possibility of large gaps\n",
      "\n",
      "## Approaches:\n",
      "1. Iteratively reweighted least squares for modeling the training period\n",
      "    - Only training period because we don't want to include changes in one regression model\n",
      "2. LOWESS \n",
      "3. STL - Seasonal-trend LOESS\n",
      "4. LOESS"
     ]
    },
    {
     "cell_type": "code",
     "collapsed": false,
     "input": [
      "from __future__ import print_function, division\n",
      "\n",
      "from datetime import datetime as dt\n",
      "\n",
      "import numpy as np\n",
      "import statsmodels.api as sm\n",
      "import matplotlib.pyplot as plt\n",
      "%matplotlib inline\n",
      "\n",
      "green = 1\n",
      "swir1 = 4\n",
      "\n",
      "# Read in data\n",
      "x = np.load('sample_x.npy')\n",
      "Y = np.load('px12_py27_Y.npy')\n",
      "\n",
      "mask = (Y[7, :] <= 1)\n",
      "\n",
      "x = np.array([_x.toordinal() for _x in x[mask]])\n",
      "Y = Y[:7, mask]"
     ],
     "language": "python",
     "metadata": {},
     "outputs": [],
     "prompt_number": 1
    },
    {
     "cell_type": "code",
     "collapsed": false,
     "input": [
      "# Plotter\n",
      "def plotter(x, y, predx=None, predy=None, crit=400, compare='gt'):\n",
      "    plt.plot(x, y, 'ko')\n",
      "    \n",
      "    if predx is not None and predy is not None:\n",
      "        plt.plot(predx, predy, 'b-')\n",
      "        \n",
      "        match = np.in1d(predx, x)\n",
      "        \n",
      "        match_x = predx[match]\n",
      "        match_y = predy[match]\n",
      "        \n",
      "        assert all(match_x == x)\n",
      "        \n",
      "        resid = (y - match_y)\n",
      "        print('Residuals:')\n",
      "        print(resid)\n",
      "        \n",
      "        if compare == 'gt':\n",
      "            masked = resid > crit\n",
      "        elif compare == 'lt':\n",
      "            masked = resid < crit\n",
      "        \n",
      "        plt.plot(x[masked], y[masked], 'ro')\n",
      "        "
     ],
     "language": "python",
     "metadata": {},
     "outputs": [],
     "prompt_number": 63
    },
    {
     "cell_type": "code",
     "collapsed": false,
     "input": [
      "index = np.arange(0, 30)\n",
      "\n",
      "plt.subplot(211)\n",
      "plotter(x[index], Y[green, index])\n",
      "plt.ylabel('Green')\n",
      "\n",
      "plt.subplot(212)\n",
      "plotter(x[index], Y[swir1, index])\n",
      "plt.ylabel('SWIR1')"
     ],
     "language": "python",
     "metadata": {},
     "outputs": [
      {
       "metadata": {},
       "output_type": "pyout",
       "prompt_number": 27,
       "text": [
        "<matplotlib.text.Text at 0x7f4bbbf3f0d0>"
       ]
      },
      {
       "metadata": {},
       "output_type": "display_data",
       "png": "[encoded data removed]",
       "text": [
        "<matplotlib.figure.Figure at 0x7f4bbc642ed0>"
       ]
      }
     ],
     "prompt_number": 27
    },
    {
     "cell_type": "markdown",
     "metadata": {},
     "source": [
      "## 1. IRWLS"
     ]
    },
    {
     "cell_type": "code",
     "collapsed": false,
     "input": [
      "niter = 50\n",
      "\n",
      "n_year = np.ceil(x[index[-1]] - x[index[0]])\n",
      "\n",
      "\n",
      "def get_predX(x, n_year):\n",
      "    w = 2.0 * np.pi / 365.25\n",
      "\n",
      "    X = np.array([\n",
      "        np.ones_like(x),\n",
      "        np.cos(w * x),\n",
      "        np.sin(w * x),\n",
      "        np.cos(w / n_year * x),\n",
      "        np.sin(w / n_year * x)\n",
      "    ])\n",
      "    # X = sm.add_constant(X)\n",
      "    return X\n",
      "\n",
      "X = get_predX(x, n_year)\n",
      "\n",
      "green_rlm = sm.RLM(Y[green, index], X[:, index].T,\n",
      "                   M=sm.robust.norms.TukeyBiweight()).fit(maxiter=niter)\n",
      "swir1_rlm = sm.RLM(Y[swir1, index], X[:, index].T,\n",
      "                   M=sm.robust.norms.TukeyBiweight()).fit(maxiter=niter)\n",
      "\n",
      "predx = np.linspace(x[index[0]], x[index[-1]], num=x[index[-1]] - x[index[0]] + 1).astype(np.int32)\n",
      "predX = get_predX(predx, n_year)\n",
      "\n",
      "plt.subplot(211)\n",
      "plotter(x[index], Y[green, index],\n",
      "        predx=predx, predy=green_rlm.predict(predX.T))\n",
      "plt.ylabel('Green')\n",
      "\n",
      "plt.subplot(212)\n",
      "plotter(x[index], Y[swir1, index],\n",
      "        predx=predx, predy=swir1_rlm.predict(predX.T),\n",
      "        crit=-400, compare='lt')\n",
      "plt.ylabel('SWIR1')"
     ],
     "language": "python",
     "metadata": {},
     "outputs": [
      {
       "output_type": "stream",
       "stream": "stdout",
       "text": [
        "Residuals:\n",
        "[ -13.06826534  -16.22253389   12.29443491  -16.74819528    1.46415865\n",
        "   43.57961929  256.63278081  -19.59442474 -172.01008446 -179.81118621\n",
        "  177.14053759  -58.6232454   146.81521181  -15.08224552   53.38882996\n",
        "  -26.90846362   73.83209057  -70.92670151    5.59859823 -127.84803403\n",
        " -148.91920746  -56.99138521   41.56233815  163.17448493  132.97535507\n",
        "  224.78321725 -230.80673111  -94.0262866   -68.87464997   89.09164227]\n",
        "Residuals:\n",
        "[ -92.46389843  -32.04418493 -124.63476845  -59.91113085   73.20376248\n",
        "  236.63031152  620.61843081  -21.30696779 -346.80407879 -561.40136159\n",
        "  341.78576094 -401.96238951  547.03554541 -159.77303383  347.39054814\n",
        "  214.34259354   25.97222875  -43.02999782 -221.65440714 -272.15378424\n",
        " -271.60521473 -259.33458922   18.90346022  329.07901626  443.43745255\n",
        "  525.48096233 -569.61757027 -331.56812351 -205.05631157  387.54708214]\n"
       ]
      },
      {
       "metadata": {},
       "output_type": "pyout",
       "prompt_number": 64,
       "text": [
        "<matplotlib.text.Text at 0x7f4bbb51c910>"
       ]
      },
      {
       "metadata": {},
       "output_type": "display_data",
       "png": "[encoded data removed]",
       "text": [
        "<matplotlib.figure.Figure at 0x7f4bbbdd35d0>"
       ]
      }
     ],
     "prompt_number": 64
    },
    {
     "cell_type": "markdown",
     "metadata": {},
     "source": [
      "## 3. STL Seasonal-trend LOESS\n",
      "\n",
      "To perform STL we can use a wrapper for R's built-in `stl` written by Andreas Hilboll located here:\n",
      "\n",
      "    https://gist.github.com/andreas-h/7808564"
     ]
    },
    {
     "cell_type": "code",
     "collapsed": false,
     "input": [
      "# Import wrapper by \"andreas-h\" for R's STL\n",
      "! wget https://gist.githubusercontent.com/andreas-h/7808564/raw/15dcb3141480fb5b190f9e22e29d0ebf16b20b1d/r_stl.py"
     ],
     "language": "python",
     "metadata": {},
     "outputs": [
      {
       "output_type": "stream",
       "stream": "stdout",
       "text": [
        "--2014-08-29 15:12:50--  https://gist.githubusercontent.com/andreas-h/7808564/raw/15dcb3141480fb5b190f9e22e29d0ebf16b20b1d/r_stl.py\r\n",
        "Resolving gist.githubusercontent.com (gist.githubusercontent.com)... 192.30.252.159\r\n",
        "Connecting to gist.githubusercontent.com (gist.githubusercontent.com)|192.30.252.159|:443... connected.\r\n"
       ]
      },
      {
       "output_type": "stream",
       "stream": "stdout",
       "text": [
        "HTTP request sent, awaiting response... 200 OK\r\n",
        "Length: unspecified [text/plain]\r\n",
        "Saving to: \u2018r_stl.py\u2019\r\n",
        "\r\n",
        "\r",
        "    [<=>                                    ] 0           --.-K/s              \r",
        "    [ <=>                                   ] 6,763       --.-K/s   in 0.001s  \r\n",
        "\r\n",
        "2014-08-29 15:12:50 (8.80 MB/s) - \u2018r_stl.py\u2019 saved [6763]\r\n",
        "\r\n"
       ]
      }
     ],
     "prompt_number": 9
    },
    {
     "cell_type": "code",
     "collapsed": false,
     "input": [
      "from r_stl import stl"
     ],
     "language": "python",
     "metadata": {},
     "outputs": [],
     "prompt_number": 11
    },
    {
     "cell_type": "code",
     "collapsed": false,
     "input": [
      "?stl"
     ],
     "language": "python",
     "metadata": {},
     "outputs": [],
     "prompt_number": 12
    }
   ],
   "metadata": {}
  }
 ]
}