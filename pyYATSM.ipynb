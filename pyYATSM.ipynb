{
 "metadata": {
  "name": "",
  "signature": "sha256:51c4e8695b270cec271b97082db4cd390a924f54716367bc223d9baae694cae4"
 },
 "nbformat": 3,
 "nbformat_minor": 0,
 "worksheets": [
  {
   "cells": [
    {
     "cell_type": "code",
     "collapsed": false,
     "input": [
      "from __future__ import print_function\n",
      "from datetime import datetime as dt\n",
      "import math\n",
      "\n",
      "import numpy as np\n",
      "import pandas as pd\n",
      "\n",
      "from statsmodels.regression.linear_model import OLS, OLSResults\n",
      "from glmnet.elastic_net import ElasticNet, elastic_net\n",
      "from sklearn.linear_model import Lasso, LassoCV, LinearRegression\n",
      "\n",
      "from external.structural_change import find_breakpoints\n",
      "\n",
      "from ggplot import *\n",
      "\n",
      "import brewer2mpl\n",
      "\n",
      "from yatsm.ts_driver.timeseries_ccdc import CCDCTimeSeries, py2mldate, ml2pydate"
     ],
     "language": "python",
     "metadata": {},
     "outputs": [],
     "prompt_number": 13
    },
    {
     "cell_type": "code",
     "collapsed": false,
     "input": [
      "ndays = 365.25\n",
      "\n",
      "n_band = 7\n",
      "green = 1\n",
      "swir1 = 4\n",
      "\n",
      "# test vs fit bands\n",
      "fit_bands = np.arange(0, 7)\n",
      "test_bands = np.arange(0, 7)\n",
      "fmask = 7\n",
      "\n",
      "# Image stack\n",
      "p = '/home/ceholden/Documents/landsat_stack/p022r049/images'\n",
      "\n",
      "ts = CCDCTimeSeries(p, image_pattern='L*')\n",
      "ts.set_px(104)\n",
      "ts.set_py(120)\n",
      "ts.get_ts_pixel(use_cache=False, do_cache=False)"
     ],
     "language": "python",
     "metadata": {},
     "outputs": [
      {
       "output_type": "stream",
       "stream": "stdout",
       "text": [
        "Has cache?: True\n",
        "Can cache?: True\n",
        "Last result coming in!"
       ]
      },
      {
       "output_type": "stream",
       "stream": "stdout",
       "text": [
        "\n"
       ]
      }
     ],
     "prompt_number": 89
    },
    {
     "cell_type": "code",
     "collapsed": false,
     "input": [
      "def make_X(x, freq, intercept=True):\n",
      "    \"\"\" Create X matrix of Fourier series style independent variables\n",
      "\n",
      "    Args:\n",
      "        x               base of independent variables - dates\n",
      "        freq            frequency of cosine/sin waves\n",
      "        intercept       include intercept in X matrix\n",
      "\n",
      "    Output:\n",
      "        X               matrix X of independent variables\n",
      "\n",
      "    Example:\n",
      "        call:\n",
      "            make_X(np.array([1, 2, 3]), [1, 2])\n",
      "        returns:\n",
      "            array([[ 1.        ,  1.        ,  1.        ],\n",
      "                   [ 1.        ,  2.        ,  3.        ],\n",
      "                   [ 0.99985204,  0.99940821,  0.99866864],\n",
      "                   [ 0.01720158,  0.03439806,  0.05158437],\n",
      "                   [ 0.99940821,  0.99763355,  0.99467811],\n",
      "                   [ 0.03439806,  0.06875541,  0.10303138]])\n",
      "\n",
      "    \"\"\"\n",
      "    w = 2 * np.pi / ndays\n",
      "\n",
      "    if intercept:\n",
      "        X = np.array([np.ones_like(x), x])\n",
      "    else:\n",
      "        X = x\n",
      "\n",
      "    for f in freq:\n",
      "        X = np.vstack([X, np.array([\n",
      "            np.cos(f * w * x),\n",
      "            np.sin(f * w * x)])\n",
      "        ])\n",
      "\n",
      "    return X\n",
      "\n",
      "# Read in data\n",
      "Y = ts.get_data(mask=False)\n",
      "x = np.array(ts.dates)\n",
      "# Remove masked values\n",
      "clear = Y[fmask, :] <= 1\n",
      "Y = Y[:fmask, clear]\n",
      "x = x[clear]\n",
      "\n",
      "# Ordinal date\n",
      "ord_x = np.array(map(dt.toordinal, x))\n",
      "\n",
      "# Frequency of cosine/sin waves\n",
      "freq = [1]\n",
      "\n",
      "# Setup Pandas dataframe\n",
      "df = pd.DataFrame(np.vstack((Y, make_X(ord_x, freq))).T,\n",
      "                  index = x)\n",
      "\n",
      "colnames = ['b1', 'b2', 'b3', 'b4', 'b5', 'b7', 'b6'] + \\\n",
      "    ['B' + str(i) for i in range(2 + 2 * len(freq))]\n",
      "\n",
      "df.columns = colnames\n",
      "\n",
      "i_dep = [c for i, c in enumerate(colnames) if 'b' in c]\n",
      "i_indep = [c for i, c in enumerate(colnames) if 'B' in c]"
     ],
     "language": "python",
     "metadata": {},
     "outputs": [],
     "prompt_number": 90
    },
    {
     "cell_type": "markdown",
     "metadata": {},
     "source": [
      "## Bai and Perron"
     ]
    },
    {
     "cell_type": "code",
     "collapsed": false,
     "input": [
      "nbreaks = 5"
     ],
     "language": "python",
     "metadata": {},
     "outputs": [],
     "prompt_number": 91
    },
    {
     "cell_type": "code",
     "collapsed": false,
     "input": [
      "breaks, ssr = find_breakpoints(df['b5'], df[i_indep], nbreaks=5,  trim=16)\n",
      "\n",
      "breaks = [b for b in breaks]\n",
      "\n",
      "breaks.append(0)"
     ],
     "language": "python",
     "metadata": {},
     "outputs": [],
     "prompt_number": 92
    },
    {
     "cell_type": "code",
     "collapsed": false,
     "input": [
      "plot_band = 4\n",
      "colors = brewer2mpl.get_map('set1',\n",
      "                            'qualitative',\n",
      "                            nbreaks + 1).hex_colors\n",
      "\n",
      "p = ggplot(aes('B1', 'b' + str(plot_band + 1)), df) + \\\n",
      "        geom_point() + \\\n",
      "        ylim(0, 6000)\n",
      "\n",
      "for i, r in enumerate(breaks):\n",
      "    if i == 0:\n",
      "        i_from = 0\n",
      "    else:\n",
      "        i_from = breaks[i - 1]\n",
      "    i_to = r\n",
      "    \n",
      "    if r == 0:\n",
      "        i_from = breaks[i - 1]\n",
      "        i_to = len(ord_x) - 1\n",
      "    \n",
      "    print(i_from, i_to)\n",
      "    \n",
      "    _x = np.arange(ord_x[i_from], ord_x[i_to])\n",
      "    _X = make_X(_x, freq)\n",
      "    \n",
      "    lasso = ZZLasso().fit(make_X(ord_x[i_from:i_to], freq).T, Y[plot_band, i_from:i_to])\n",
      "    \n",
      "    # Setup dummy dataframe for predictions\n",
      "    ts_df = pd.DataFrame({ 'x': _x })\n",
      "    # Get predictions\n",
      "    ts_df['y'] = lasso.predict(_X.T)\n",
      "\n",
      "    # Add line to ggplot\n",
      "    p = p + geom_line(aes('x', 'y'), ts_df, color=colors[i])\n",
      "    # If there is a break in this timeseries, add it as vertical line\n",
      "    if r != 0:\n",
      "        p = p + geom_vline(xintercept=ord_x[r], color='red')\n",
      "        \n",
      "title = 'Bai and Perron (# break = {b})'.format(b=nbreaks)\n",
      "        \n",
      "print(p + ylim(0, 4000) + ggtitle(title))"
     ],
     "language": "python",
     "metadata": {},
     "outputs": []
    },
    {
     "cell_type": "code",
     "collapsed": false,
     "input": [
      "x = np.array(ts.dates)\n",
      "np.save('sample/sample_x.npy', x)"
     ],
     "language": "python",
     "metadata": {},
     "outputs": [],
     "prompt_number": 11
    },
    {
     "cell_type": "markdown",
     "metadata": {},
     "source": [
      "## Scikits LASSO"
     ]
    },
    {
     "cell_type": "code",
     "collapsed": false,
     "input": [
      "lassocv = LassoCV()\n",
      "lasso_cv = lassocv.fit(df[i_indep].values, df['b5'].values)\n",
      "\n",
      "df['cv_yhat'] = lassocv.predict(df[i_indep].values)"
     ],
     "language": "python",
     "metadata": {},
     "outputs": []
    },
    {
     "cell_type": "markdown",
     "metadata": {},
     "source": [
      "## GLMNET LASSO with fixed Lambda (20)"
     ]
    },
    {
     "cell_type": "code",
     "collapsed": false,
     "input": [
      "class ZZLasso(ElasticNet):\n",
      "    \n",
      "    def __init__(self, alpha=1.0):\n",
      "        super(ZZLasso, self).__init__(alpha)\n",
      "        \n",
      "    def fit(self, X, y, lambdas=None):\n",
      "        if lambdas is None:\n",
      "            lambdas = [self.alpha]\n",
      "        elif not isinstance(type(lambdas), list):\n",
      "            lambdas = [lambdas]\n",
      "            \n",
      "        n_lambdas, intercept_, coef_, ia, nin, rsquared_, lambdas, _, jerr = \\\n",
      "            elastic_net(X, y, 1, lambdas=lambdas)\n",
      "        # elastic_net will fire exception instead\n",
      "        # assert jerr == 0\n",
      "        \n",
      "        self.coef_ = np.zeros(X.shape[1])\n",
      "        self.coef_[ia[:nin[0]] - 1] = coef_\n",
      "        \n",
      "        self.intercept_ = intercept_\n",
      "        self.rsquared_ = rsquared_\n",
      "        return self"
     ],
     "language": "python",
     "metadata": {},
     "outputs": [],
     "prompt_number": 49
    },
    {
     "cell_type": "code",
     "collapsed": false,
     "input": [
      "lasso_zz = ZZLasso()\n",
      "lasso_zz.fit(df[i_indep].values, df['b5'].values, lambdas=20)\n",
      "\n",
      "df['zz_yhat'] = lasso_zz.predict(df[i_indep])"
     ],
     "language": "python",
     "metadata": {},
     "outputs": []
    },
    {
     "cell_type": "markdown",
     "metadata": {},
     "source": [
      "## Compare"
     ]
    },
    {
     "cell_type": "code",
     "collapsed": false,
     "input": [
      "print(ggplot(aes('B1', 'b5'), df) +\n",
      "    geom_point() +\n",
      "    geom_line(aes('B1', 'cv_yhat'), df, color='red') +\n",
      "    geom_line(aes('B1', 'zz_yhat'), df, color='blue') +\n",
      "    ggtitle('LASSO Comparison')\n",
      ")"
     ],
     "language": "python",
     "metadata": {},
     "outputs": []
    },
    {
     "cell_type": "code",
     "collapsed": false,
     "input": [
      "lasso_cv.alpha_"
     ],
     "language": "python",
     "metadata": {},
     "outputs": []
    },
    {
     "cell_type": "code",
     "collapsed": false,
     "input": [
      "pred_index = np.linspace(df.index[0], df.index[-1], (df.index[-1] - df.index[0]))\n",
      "df_predict = pd.DataFrame({ 'pred': lasso_zz.predict(make_X(pred_index).T),\n",
      "                            'index': pred_index \n",
      "                         })\n",
      "\n",
      "print plot_YATSM(df, 'b5', lasso_cv) + \\\n",
      "    geom_line(aes('index', 'pred'), df_predict, color='blue')"
     ],
     "language": "python",
     "metadata": {},
     "outputs": []
    },
    {
     "cell_type": "code",
     "collapsed": false,
     "input": [
      "lasso_zz = Lasso()\n",
      "zz_fit = lasso_zz.fit(df[i_indep].values, df['b5'].values)"
     ],
     "language": "python",
     "metadata": {},
     "outputs": []
    },
    {
     "cell_type": "markdown",
     "metadata": {},
     "source": [
      "## Algorithm"
     ]
    },
    {
     "cell_type": "code",
     "collapsed": false,
     "input": [
      "consecutive = 5\n",
      "\n",
      "here = "
     ],
     "language": "python",
     "metadata": {},
     "outputs": []
    }
   ],
   "metadata": {}
  }
 ]
}