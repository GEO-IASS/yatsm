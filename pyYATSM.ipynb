{
 "metadata": {
  "name": "",
  "signature": "sha256:d5cf2a42f4cc34cb35477aa66ef5978040f798fd4c710d26f3406424da68a1dd"
 },
 "nbformat": 3,
 "nbformat_minor": 0,
 "worksheets": [
  {
   "cells": [
    {
     "cell_type": "code",
     "collapsed": false,
     "input": [
      "from __future__ import print_function\n",
      "from datetime import datetime as dt\n",
      "import math\n",
      "\n",
      "import numpy as np\n",
      "import pandas as pd\n",
      "\n",
      "from statsmodels.regression.linear_model import OLS, OLSResults\n",
      "from glmnet.elastic_net import ElasticNet, elastic_net\n",
      "from scikits.learn.linear_model import Lasso, LassoCV, LinearRegression\n",
      "\n",
      "from ggplot import *\n",
      "\n",
      "from pyCCDC.lasso_ccdc import CCDCLasso\n",
      "from pyCCDC.ts_driver.timeseries_ccdc import CCDCTimeSeries, py2mldate, ml2pydate"
     ],
     "language": "python",
     "metadata": {},
     "outputs": [],
     "prompt_number": 90
    },
    {
     "cell_type": "code",
     "collapsed": false,
     "input": [
      "ndays = 365.25\n",
      "\n",
      "n_band = 7\n",
      "green = 1\n",
      "swir1 = 4\n",
      "\n",
      "# test vs fit bands\n",
      "fit_bands = np.arange(0, 7)\n",
      "test_bands = np.arange(0, 7)\n",
      "fmask = 7\n",
      "\n",
      "# Image stack\n",
      "p = '/home/ceholden/Documents/landsat_stack/p022r049/images'\n",
      "\n",
      "ts = CCDCTimeSeries(p, image_pattern='L*')\n",
      "ts.set_px(12)\n",
      "ts.set_py(27)\n",
      "ts.get_ts_pixel(use_cache=False, do_cache=False)"
     ],
     "language": "python",
     "metadata": {},
     "outputs": [
      {
       "output_type": "stream",
       "stream": "stdout",
       "text": [
        "Has cache?: True\n",
        "Can cache?: True\n",
        "Last result coming in!\n"
       ]
      }
     ],
     "prompt_number": 91
    },
    {
     "cell_type": "code",
     "collapsed": false,
     "input": [
      "def make_X(x):\n",
      "    w = 2 * np.pi / ndays\n",
      "    \n",
      "    return np.array([\n",
      "              np.ones_like(x),\n",
      "              x,\n",
      "              np.cos(w * x),\n",
      "              np.sin(w * x),\n",
      "              np.cos(2 * w * x),\n",
      "              np.sin(2 * w * x),\n",
      "              np.cos(3 * w * x),\n",
      "              np.sin(3 * w * x)\n",
      "              ])\n",
      "\n",
      "# Read in data\n",
      "Y = ts.get_data(mask=False)\n",
      "x = np.array(ts.dates)\n",
      "# Remove masked values\n",
      "clear = Y[fmask, :] <= 1\n",
      "Y = Y[:fmask, clear]\n",
      "x = x[clear]\n",
      "\n",
      "# Ordinal date\n",
      "ord_x = np.array(map(dt.toordinal, x))\n",
      "\n",
      "# Setup Pandas dataframe\n",
      "colnames = ['b1', 'b2', 'b3', 'b4', 'b5', 'b7', 'b6'] + \\\n",
      "    ['B' + str(i) for i in range(8)]\n",
      "\n",
      "i_dep = [c for i, c in enumerate(colnames) if 'b' in c]\n",
      "i_indep = [c for i, c in enumerate(colnames) if 'B' in c]\n",
      "\n",
      "df = pd.DataFrame(np.vstack((Y, make_X(ord_x))).T,\n",
      "                  index = x,\n",
      "                  columns = colnames)"
     ],
     "language": "python",
     "metadata": {},
     "outputs": [],
     "prompt_number": 243
    },
    {
     "cell_type": "code",
     "collapsed": false,
     "input": [
      "ggplot(aes('doy', 'b5', color='year'), df) + geom_point() + scale_colour_gradient()"
     ],
     "language": "python",
     "metadata": {},
     "outputs": [
      {
       "metadata": {},
       "output_type": "pyout",
       "prompt_number": 181,
       "text": [
        "<ggplot: (8762112250649)>"
       ]
      }
     ],
     "prompt_number": 181
    },
    {
     "cell_type": "code",
     "collapsed": false,
     "input": [
      "x = np.array(ts.dates)\n",
      "np.save('sample/sample_x.npy', x)"
     ],
     "language": "python",
     "metadata": {},
     "outputs": [],
     "prompt_number": 235
    },
    {
     "cell_type": "markdown",
     "metadata": {},
     "source": [
      "## Scikits LASSO"
     ]
    },
    {
     "cell_type": "code",
     "collapsed": false,
     "input": [
      "lassocv = LassoCV()\n",
      "lasso_cv = lassocv.fit(df[i_indep].values, df['b5'].values)\n",
      "\n",
      "df['cv_yhat'] = lassocv.predict(df[i_indep].values)"
     ],
     "language": "python",
     "metadata": {},
     "outputs": []
    },
    {
     "cell_type": "markdown",
     "metadata": {},
     "source": [
      "## GLMNET LASSO with fixed Lambda (20)"
     ]
    },
    {
     "cell_type": "code",
     "collapsed": false,
     "input": [
      "class ZZLasso(ElasticNet):\n",
      "    \n",
      "    def __init__(self, alpha=1.0):\n",
      "        super(ZZLasso, self).__init__(alpha)\n",
      "        \n",
      "    def fit(self, X, y, lambdas=None):\n",
      "        if lambdas is None:\n",
      "            lambdas = [self.alpha]\n",
      "        elif not isinstance(type(lambdas), list):\n",
      "            lambdas = [lambdas]\n",
      "            \n",
      "        n_lambdas, intercept_, coef_, ia, nin, rsquared_, lambdas, _, jerr = \\\n",
      "            elastic_net(X, y, 1, lambdas=lambdas)\n",
      "        # elastic_net will fire exception instead\n",
      "        # assert jerr == 0\n",
      "        \n",
      "        self.coef_ = np.zeros(X.shape[1])\n",
      "        self.coef_[ia[:nin[0]] - 1] = coef_\n",
      "        \n",
      "        self.intercept_ = intercept_\n",
      "        self.rsquared_ = rsquared_\n",
      "        return self"
     ],
     "language": "python",
     "metadata": {},
     "outputs": []
    },
    {
     "cell_type": "code",
     "collapsed": false,
     "input": [
      "lasso_zz = ZZLasso()\n",
      "lasso_zz.fit(df[i_indep].values, df['b5'].values, lambdas=20)\n",
      "\n",
      "df['zz_yhat'] = lasso_zz.predict(df[i_indep])"
     ],
     "language": "python",
     "metadata": {},
     "outputs": []
    },
    {
     "cell_type": "markdown",
     "metadata": {},
     "source": [
      "## Compare"
     ]
    },
    {
     "cell_type": "code",
     "collapsed": false,
     "input": [
      "print(ggplot(aes('B1', 'b5'), df) +\n",
      "    geom_point() +\n",
      "    geom_line(aes('B1', 'cv_yhat'), df, color='red') +\n",
      "    geom_line(aes('B1', 'zz_yhat'), df, color='blue') +\n",
      "    ggtitle('LASSO Comparison')\n",
      ")"
     ],
     "language": "python",
     "metadata": {},
     "outputs": []
    },
    {
     "cell_type": "code",
     "collapsed": false,
     "input": [
      "lasso_cv.alpha_"
     ],
     "language": "python",
     "metadata": {},
     "outputs": []
    },
    {
     "cell_type": "code",
     "collapsed": false,
     "input": [
      "pred_index = np.linspace(df.index[0], df.index[-1], (df.index[-1] - df.index[0]))\n",
      "df_predict = pd.DataFrame({ 'pred': lasso_zz.predict(make_X(pred_index).T),\n",
      "                            'index': pred_index \n",
      "                         })\n",
      "\n",
      "print plot_YATSM(df, 'b5', lasso_cv) + \\\n",
      "    geom_line(aes('index', 'pred'), df_predict, color='blue')"
     ],
     "language": "python",
     "metadata": {},
     "outputs": []
    },
    {
     "cell_type": "code",
     "collapsed": false,
     "input": [
      "lasso_zz = Lasso()\n",
      "zz_fit = lasso_zz.fit(df[i_indep].values, df['b5'].values)"
     ],
     "language": "python",
     "metadata": {},
     "outputs": []
    },
    {
     "cell_type": "markdown",
     "metadata": {},
     "source": [
      "## Algorithm"
     ]
    },
    {
     "cell_type": "code",
     "collapsed": false,
     "input": [
      "consecutive = 5\n",
      "\n",
      "here = "
     ],
     "language": "python",
     "metadata": {},
     "outputs": []
    }
   ],
   "metadata": {}
  }
 ]
}