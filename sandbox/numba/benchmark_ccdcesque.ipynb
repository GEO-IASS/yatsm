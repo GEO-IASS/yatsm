{
 "cells": [
  {
   "cell_type": "markdown",
   "metadata": {},
   "source": [
    "# Benchmark CCDC Runs\n",
    "\n",
    "Not quite sure how I can benchmark runs in an automated manner without having multiple CCDC implementations. Instead, this notebook will serve as a self-reporting method where I will tie model run times to commits made."
   ]
  },
  {
   "cell_type": "code",
   "execution_count": 10,
   "metadata": {
    "collapsed": false
   },
   "outputs": [],
   "source": [
    "import numpy as np\n",
    "import sklearn.linear_model\n",
    "\n",
    "from yatsm.algorithms import CCDCesque"
   ]
  },
  {
   "cell_type": "code",
   "execution_count": 6,
   "metadata": {
    "collapsed": true
   },
   "outputs": [],
   "source": [
    "dat = np.load('../../tests/algorithms/data/example_timeseries_masked.npz')['arr_0'].item()"
   ]
  },
  {
   "cell_type": "code",
   "execution_count": 11,
   "metadata": {
    "collapsed": false
   },
   "outputs": [],
   "source": [
    "model = CCDCesque(\n",
    "    test_indices=np.array([2, 3, 4, 5]),\n",
    "    lm=sklearn.linear_model.Lasso(alpha=20),\n",
    "    consecutive=5,\n",
    "    threshold=4,\n",
    "    min_obs=24,\n",
    "    min_rmse=100,\n",
    "    retrain_time=365.25,\n",
    "    screening='RLM',\n",
    "    screening_crit=400.0,\n",
    "    green_band=1,\n",
    "    swir1_band=4,\n",
    "    remove_noise=True,\n",
    "    dynamic_rmse=True,\n",
    "    slope_test=True,\n",
    "    idx_slope=1\n",
    ")"
   ]
  }
 ],
 "metadata": {
  "kernelspec": {
   "display_name": "Python 2",
   "language": "python",
   "name": "python2"
  },
  "language_info": {
   "codemirror_mode": {
    "name": "ipython",
    "version": 2
   },
   "file_extension": ".py",
   "mimetype": "text/x-python",
   "name": "python",
   "nbconvert_exporter": "python",
   "pygments_lexer": "ipython2",
   "version": "2.7.10"
  }
 },
 "nbformat": 4,
 "nbformat_minor": 0
}
