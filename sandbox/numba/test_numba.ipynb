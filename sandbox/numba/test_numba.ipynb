{
 "cells": [
  {
   "cell_type": "markdown",
   "metadata": {},
   "source": [
    "# Numba Tests"
   ]
  },
  {
   "cell_type": "code",
   "execution_count": 14,
   "metadata": {
    "collapsed": true
   },
   "outputs": [],
   "source": [
    "import numpy as np"
   ]
  },
  {
   "cell_type": "markdown",
   "metadata": {},
   "source": [
    "## 1. Apply jit only if numba is available.\n",
    "\n",
    "See http://stackoverflow.com/questions/29587317/python-numba-jit-conditional-and-recursive-stack-use\n",
    "\n",
    "### Scenario 1:\n",
    "Use quite a lot of decorators"
   ]
  },
  {
   "cell_type": "code",
   "execution_count": 111,
   "metadata": {
    "collapsed": true
   },
   "outputs": [],
   "source": [
    "def rmse(y, yhat):\n",
    "    \"\"\" Calculate and return Root Mean Squared Error (RMSE)\n",
    "\n",
    "    Args:\n",
    "        y (np.ndarray): known values\n",
    "        yhat (np.ndarray): predicted values\n",
    "\n",
    "    Returns:\n",
    "        float: Root Mean Squared Error\n",
    "    \"\"\"\n",
    "    return ((y - yhat) ** 2).mean() ** 0.5"
   ]
  },
  {
   "cell_type": "code",
   "execution_count": 127,
   "metadata": {
    "collapsed": false
   },
   "outputs": [],
   "source": [
    "has_numba = True\n",
    "try:\n",
    "    import numba as nb\n",
    "except ImportError:\n",
    "    has_numba = False\n",
    "    \n",
    "from functools import wraps\n",
    "\n",
    "\n",
    "def doublewrap(f):\n",
    "    \"\"\" Allows decorators to be called with/without args/kwargs\n",
    "    \n",
    "    Allows:\n",
    "        @decorator\n",
    "        @decorator()\n",
    "        @decorator(args, kwargs=values)\n",
    "        \n",
    "    Modification of answer from user \"bj0\" on StackOverflow:\n",
    "    http://stackoverflow.com/a/14412901\n",
    "    \"\"\"\n",
    "    @wraps(f)\n",
    "    def new_dec(*args, **kwargs):\n",
    "        if len(args) == 1 and len(kwargs) == 0 and callable(args[0]):\n",
    "            # called as @decorator\n",
    "            return f(args[0])\n",
    "        elif len(args) == 0:\n",
    "            # called as @decorator()\n",
    "            return f\n",
    "        else:\n",
    "            # called as @decorator(*args, **kwargs)\n",
    "            return lambda realf: f(realf, *args, **kwargs)\n",
    "\n",
    "    return new_dec\n",
    "\n",
    "\n",
    "@doublewrap\n",
    "def try_jit(f, *args, **kwargs):\n",
    "    \"\"\" Apply numba.jit to function ``f`` if Numba is available\n",
    "    \"\"\"\n",
    "    if has_numba:\n",
    "        @wraps(f)\n",
    "        def wrap(*args, **kwargs):\n",
    "            return nb.jit(*args, **kwargs)\n",
    "        return wrap(f)\n",
    "    else:\n",
    "        return f"
   ]
  },
  {
   "cell_type": "code",
   "execution_count": 106,
   "metadata": {
    "collapsed": false
   },
   "outputs": [
    {
     "data": {
      "text/plain": [
       "0.9756407207105383"
      ]
     },
     "execution_count": 106,
     "metadata": {},
     "output_type": "execute_result"
    }
   ],
   "source": [
    "@try_jit\n",
    "def rmse_jit(y, yhat):\n",
    "    \"\"\" Calculate and return Root Mean Squared Error (RMSE)\n",
    "\n",
    "    Args:\n",
    "        y (np.ndarray): known values\n",
    "        yhat (np.ndarray): predicted values\n",
    "\n",
    "    Returns:\n",
    "        float: Root Mean Squared Error\n",
    "    \"\"\"\n",
    "    return ((y - yhat) ** 2).mean() ** 0.5\n",
    "\n",
    "rmse_jit(y, yhat)"
   ]
  },
  {
   "cell_type": "code",
   "execution_count": 107,
   "metadata": {
    "collapsed": false
   },
   "outputs": [
    {
     "data": {
      "text/plain": [
       "0.9756407207105383"
      ]
     },
     "execution_count": 107,
     "metadata": {},
     "output_type": "execute_result"
    }
   ],
   "source": [
    "@try_jit()\n",
    "def rmse_jit(y, yhat):\n",
    "    \"\"\" Calculate and return Root Mean Squared Error (RMSE)\n",
    "\n",
    "    Args:\n",
    "        y (np.ndarray): known values\n",
    "        yhat (np.ndarray): predicted values\n",
    "\n",
    "    Returns:\n",
    "        float: Root Mean Squared Error\n",
    "    \"\"\"\n",
    "    return ((y - yhat) ** 2).mean() ** 0.5\n",
    "\n",
    "rmse_jit(y, yhat)"
   ]
  },
  {
   "cell_type": "code",
   "execution_count": 108,
   "metadata": {
    "collapsed": false
   },
   "outputs": [
    {
     "data": {
      "text/plain": [
       "0.9756407207105383"
      ]
     },
     "execution_count": 108,
     "metadata": {},
     "output_type": "execute_result"
    }
   ],
   "source": [
    "@try_jit(\"float32[:](float32[:], float32[:])\", nopython=True)\n",
    "def rmse_jit(y, yhat):\n",
    "    \"\"\" Calculate and return Root Mean Squared Error (RMSE)\n",
    "\n",
    "    Args:\n",
    "        y (np.ndarray): known values\n",
    "        yhat (np.ndarray): predicted values\n",
    "\n",
    "    Returns:\n",
    "        float: Root Mean Squared Error\n",
    "    \"\"\"\n",
    "    return ((y - yhat) ** 2).mean() ** 0.5\n",
    "\n",
    "rmse_jit(y, yhat)"
   ]
  },
  {
   "cell_type": "code",
   "execution_count": 109,
   "metadata": {
    "collapsed": false
   },
   "outputs": [
    {
     "data": {
      "text/plain": [
       "0.9756407207105383"
      ]
     },
     "execution_count": 109,
     "metadata": {},
     "output_type": "execute_result"
    }
   ],
   "source": [
    "has_numba = False\n",
    "@doublewrap\n",
    "def try_jit(f, *args, **kwargs):\n",
    "    \"\"\" Apply numba.jit to function ``f`` if Numba is available\n",
    "    \"\"\"\n",
    "    if has_numba:\n",
    "        @wraps(f)\n",
    "        def wrap(*args, **kwargs):\n",
    "            return nb.jit(*args, **kwargs)\n",
    "        return wrap(f)\n",
    "    else:\n",
    "        return f\n",
    "\n",
    "@try_jit(\"float32[:](float32[:], float32[:])\", nopython=True)\n",
    "def rmse_jit_nojit(y, yhat):\n",
    "    \"\"\" Calculate and return Root Mean Squared Error (RMSE)\n",
    "\n",
    "    Args:\n",
    "        y (np.ndarray): known values\n",
    "        yhat (np.ndarray): predicted values\n",
    "\n",
    "    Returns:\n",
    "        float: Root Mean Squared Error\n",
    "    \"\"\"\n",
    "    return ((y - yhat) ** 2).mean() ** 0.5\n",
    "\n",
    "rmse_jit(y, yhat)"
   ]
  },
  {
   "cell_type": "code",
   "execution_count": null,
   "metadata": {
    "collapsed": true
   },
   "outputs": [],
   "source": [
    "@nb.jit()\n",
    "def rmse_jit_basic(y, yhat):\n",
    "    \"\"\" Calculate and return Root Mean Squared Error (RMSE)\n",
    "\n",
    "    Args:\n",
    "        y (np.ndarray): known values\n",
    "        yhat (np.ndarray): predicted values\n",
    "\n",
    "    Returns:\n",
    "        float: Root Mean Squared Error\n",
    "    \"\"\"\n",
    "    return ((y - yhat) ** 2).mean() ** 0.5\n",
    "\n",
    "rmse_jit_basic(y, yhat)"
   ]
  },
  {
   "cell_type": "markdown",
   "metadata": {},
   "source": [
    "Test timings!"
   ]
  },
  {
   "cell_type": "code",
   "execution_count": 15,
   "metadata": {
    "collapsed": true
   },
   "outputs": [],
   "source": [
    "y = np.random.rand(100)\n",
    "yhat = y + np.random.standard_normal(100)"
   ]
  },
  {
   "cell_type": "code",
   "execution_count": 153,
   "metadata": {
    "collapsed": false
   },
   "outputs": [
    {
     "name": "stdout",
     "output_type": "stream",
     "text": [
      "The slowest run took 8.50 times longer than the fastest. This could mean that an intermediate result is being cached \n",
      "100000 loops, best of 3: 5.42 µs per loop\n",
      "The slowest run took 9.56 times longer than the fastest. This could mean that an intermediate result is being cached \n",
      "1000000 loops, best of 3: 623 ns per loop\n",
      "The slowest run took 9.53 times longer than the fastest. This could mean that an intermediate result is being cached \n",
      "1000000 loops, best of 3: 625 ns per loop\n",
      "The slowest run took 8.72 times longer than the fastest. This could mean that an intermediate result is being cached \n",
      "100000 loops, best of 3: 5.42 µs per loop\n"
     ]
    }
   ],
   "source": [
    "%timeit rmse(y, yhat)\n",
    "%timeit rmse_jit_basic(y, yhat)\n",
    "%timeit rmse_jit(y, yhat)\n",
    "%timeit rmse_jit_nojit(y, yhat)"
   ]
  },
  {
   "cell_type": "markdown",
   "metadata": {},
   "source": [
    "**Conclusions**: I'm really surprised it can handle all of the various decorator declarations:\n",
    "``` python\n",
    "@try_jit\n",
    "@try_jit()\n",
    "@try_jit(\"signature\", kwargs=values)\n",
    "```\n",
    "\n",
    "Since the many tiers of decorators are only evaluated on the initial function ingest, there doesn't seem to be a performance difference."
   ]
  },
  {
   "cell_type": "markdown",
   "metadata": {},
   "source": [
    "### Scenario 2:\n",
    "Use a much more simple approach..."
   ]
  },
  {
   "cell_type": "code",
   "execution_count": 151,
   "metadata": {
    "collapsed": true
   },
   "outputs": [],
   "source": [
    "has_numba = True\n",
    "try:\n",
    "    import numba as nb\n",
    "except ImportError:\n",
    "    has_numba = False\n",
    "    \n",
    "\n",
    "def try_jit2(f, *args, **kwargs):\n",
    "    if has_numba:\n",
    "        return nb.jit(*args, **kwargs)(f)\n",
    "    else:\n",
    "        return f\n",
    "rmse_jit2 = try_jit2(rmse, nopython=True)\n",
    "    \n",
    "has_numba = False\n",
    "def try_jit2_nojit(f, *args, **kwargs):\n",
    "    if has_numba:\n",
    "        return nb.jit(*args, **kwargs)(f)\n",
    "    else:\n",
    "        return f\n",
    "rmse_jit2_nojit = try_jit2_nojit(rmse, nopython=True)"
   ]
  },
  {
   "cell_type": "code",
   "execution_count": 152,
   "metadata": {
    "collapsed": false
   },
   "outputs": [
    {
     "name": "stdout",
     "output_type": "stream",
     "text": [
      "The slowest run took 9.59 times longer than the fastest. This could mean that an intermediate result is being cached \n",
      "100000 loops, best of 3: 5.42 µs per loop\n",
      "The slowest run took 92549.24 times longer than the fastest. This could mean that an intermediate result is being cached \n",
      "1000000 loops, best of 3: 624 ns per loop\n",
      "The slowest run took 9.01 times longer than the fastest. This could mean that an intermediate result is being cached \n",
      "100000 loops, best of 3: 5.45 µs per loop\n"
     ]
    }
   ],
   "source": [
    "%timeit rmse(y, yhat)\n",
    "%timeit rmse_jit2(y, yhat)\n",
    "%timeit rmse_jit2_nojit(y, yhat)"
   ]
  },
  {
   "cell_type": "markdown",
   "metadata": {},
   "source": [
    "### Test conclusions:\n",
    "Just use many decorators!"
   ]
  },
  {
   "cell_type": "code",
   "execution_count": 155,
   "metadata": {
    "collapsed": true
   },
   "outputs": [],
   "source": [
    "?nb.njit"
   ]
  }
 ],
 "metadata": {
  "kernelspec": {
   "display_name": "Python 2",
   "language": "python",
   "name": "python2"
  },
  "language_info": {
   "codemirror_mode": {
    "name": "ipython",
    "version": 2
   },
   "file_extension": ".py",
   "mimetype": "text/x-python",
   "name": "python",
   "nbconvert_exporter": "python",
   "pygments_lexer": "ipython2",
   "version": "2.7.10"
  }
 },
 "nbformat": 4,
 "nbformat_minor": 0
}
